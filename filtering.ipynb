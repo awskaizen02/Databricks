{
 "cells": [
  {
   "cell_type": "markdown",
   "metadata": {
    "application/vnd.databricks.v1+cell": {
     "cellMetadata": {},
     "inputWidgets": {},
     "nuid": "43cc0a74-12f3-444d-8cd7-27659e7ead2f",
     "showTitle": false,
     "tableResultSettingsMap": {},
     "title": ""
    }
   },
   "source": [
    "Filter we are selecting the required rows from a dataframe syntax: datafram.filter(\"\")"
   ]
  },
  {
   "cell_type": "code",
   "execution_count": 0,
   "metadata": {
    "application/vnd.databricks.v1+cell": {
     "cellMetadata": {
      "byteLimit": 2048000,
      "rowLimit": 10000
     },
     "inputWidgets": {},
     "nuid": "b9eb6271-ee15-4874-95fe-47af4ec6919d",
     "showTitle": false,
     "tableResultSettingsMap": {},
     "title": ""
    }
   },
   "outputs": [
    {
     "output_type": "display_data",
     "data": {
      "text/html": [
       "<style scoped>\n",
       "  .table-result-container {\n",
       "    max-height: 300px;\n",
       "    overflow: auto;\n",
       "  }\n",
       "  table, th, td {\n",
       "    border: 1px solid black;\n",
       "    border-collapse: collapse;\n",
       "  }\n",
       "  th, td {\n",
       "    padding: 5px;\n",
       "  }\n",
       "  th {\n",
       "    text-align: left;\n",
       "  }\n",
       "</style><div class='table-result-container'><table class='table-result'><thead style='background-color: white'><tr><th>firstname</th><th>lastname</th><th>country</th><th>city</th><th>salary</th></tr></thead><tbody><tr><td>    James</td><td>Smith</td><td>USA</td><td></td><td>3000</td></tr><tr><td>    Michael</td><td>Rose</td><td>USA</td><td>NY</td><td>2500</td></tr><tr><td>Robert</td><td>Williams</td><td>USA</td><td>CA</td><td>6000</td></tr><tr><td>mARIA</td><td>Jones           </td><td>USA</td><td>FL</td><td>20000</td></tr><tr><td>james</td><td>Anderson</td><td>UK</td><td>LND</td><td>8000</td></tr><tr><td>MICHEAL</td><td>Bevon</td><td>UK</td><td>LND</td><td>3500</td></tr><tr><td>Robert</td><td>Patrick</td><td>UK</td><td>MCR</td><td>2800</td></tr><tr><td>Maria</td><td>Gonzales</td><td>UK</td><td>MCR</td><td>7000</td></tr></tbody></table></div>"
      ]
     },
     "metadata": {
      "application/vnd.databricks.v1+output": {
       "addedWidgets": {},
       "aggData": [],
       "aggError": "",
       "aggOverflow": false,
       "aggSchema": [],
       "aggSeriesLimitReached": false,
       "aggType": "",
       "arguments": {},
       "columnCustomDisplayInfos": {},
       "data": [
        [
         "    James",
         "Smith",
         "USA",
         "",
         3000
        ],
        [
         "    Michael",
         "Rose",
         "USA",
         "NY",
         2500
        ],
        [
         "Robert",
         "Williams",
         "USA",
         "CA",
         6000
        ],
        [
         "mARIA",
         "Jones           ",
         "USA",
         "FL",
         20000
        ],
        [
         "james",
         "Anderson",
         "UK",
         "LND",
         8000
        ],
        [
         "MICHEAL",
         "Bevon",
         "UK",
         "LND",
         3500
        ],
        [
         "Robert",
         "Patrick",
         "UK",
         "MCR",
         2800
        ],
        [
         "Maria",
         "Gonzales",
         "UK",
         "MCR",
         7000
        ]
       ],
       "datasetInfos": [],
       "dbfsResultPath": null,
       "isJsonSchema": true,
       "metadata": {},
       "overflow": false,
       "plotOptions": {
        "customPlotOptions": {},
        "displayType": "table",
        "pivotAggregation": null,
        "pivotColumns": null,
        "xColumns": null,
        "yColumns": null
       },
       "removedWidgets": [],
       "schema": [
        {
         "metadata": "{}",
         "name": "firstname",
         "type": "\"string\""
        },
        {
         "metadata": "{}",
         "name": "lastname",
         "type": "\"string\""
        },
        {
         "metadata": "{}",
         "name": "country",
         "type": "\"string\""
        },
        {
         "metadata": "{}",
         "name": "city",
         "type": "\"string\""
        },
        {
         "metadata": "{}",
         "name": "salary",
         "type": "\"integer\""
        }
       ],
       "type": "table"
      }
     },
     "output_type": "display_data"
    }
   ],
   "source": [
    "from pyspark.sql.types import *\n",
    "\n",
    "staticlist = [(\"    James\",\"Smith\",\"USA\",\"\",3000),\n",
    "    (\"    Michael\",\"Rose\",\"USA\",\"NY\",2500),\n",
    "    (\"Robert\",\"Williams\",\"USA\",\"CA\",6000),\n",
    "    (\"mARIA\",\"Jones           \",\"USA\",\"FL\",20000),\n",
    "    (\"james\",\"Anderson\",\"UK\",\"LND\",8000),\n",
    "    (\"MICHEAL\",\"Bevon\",\"UK\",\"LND\",3500),\n",
    "    (\"Robert\",\"Patrick\",\"UK\",\"MCR\",2800),\n",
    "    (\"Maria\",\"Gonzales\",\"UK\",\"MCR\",7000)   \n",
    "  ]\n",
    "StructSchema = StructType([\n",
    "    StructField(\"firstname\", StringType(), True),\n",
    "    StructField(\"lastname\", StringType(), False),\n",
    "    StructField(\"country\", StringType(), True),\n",
    "    StructField(\"city\", StringType(), False),\n",
    "    StructField(\"salary\", IntegerType(), False)\n",
    "])\n",
    "\n",
    "df = spark.createDataFrame(\n",
    "    data=staticlist,\n",
    "    schema=StructSchema\n",
    ")\n",
    "display(df)"
   ]
  },
  {
   "cell_type": "code",
   "execution_count": 0,
   "metadata": {
    "application/vnd.databricks.v1+cell": {
     "cellMetadata": {
      "byteLimit": 2048000,
      "rowLimit": 10000
     },
     "inputWidgets": {},
     "nuid": "d898af2d-7184-4a6f-8783-331629d60ab6",
     "showTitle": false,
     "tableResultSettingsMap": {},
     "title": ""
    }
   },
   "outputs": [
    {
     "output_type": "stream",
     "name": "stdout",
     "output_type": "stream",
     "text": [
      "+---------+----------------+-------+----+------+\n|firstname|        lastname|country|city|salary|\n+---------+----------------+-------+----+------+\n|   Robert|        Williams|    USA|  CA|  6000|\n|    mARIA|Jones           |    USA|  FL| 20000|\n|    james|        Anderson|     UK| LND|  8000|\n|    Maria|        Gonzales|     UK| MCR|  7000|\n+---------+----------------+-------+----+------+\n\n"
     ]
    }
   ],
   "source": [
    "#place a filter where salary is above 5000 (single column filter)\n",
    "df_filter1 = df.filter(\"salary > 5000\")\n",
    "df_filter1.show()"
   ]
  },
  {
   "cell_type": "code",
   "execution_count": 0,
   "metadata": {
    "application/vnd.databricks.v1+cell": {
     "cellMetadata": {
      "byteLimit": 2048000,
      "rowLimit": 10000
     },
     "inputWidgets": {},
     "nuid": "74a04404-48a5-46c4-97bf-6c8aca43877e",
     "showTitle": false,
     "tableResultSettingsMap": {},
     "title": ""
    }
   },
   "outputs": [
    {
     "output_type": "stream",
     "name": "stdout",
     "output_type": "stream",
     "text": [
      "+---------+----------------+-------+----+------+\n|firstname|        lastname|country|city|salary|\n+---------+----------------+-------+----+------+\n|   Robert|        Williams|    USA|  CA|  6000|\n|    mARIA|Jones           |    USA|  FL| 20000|\n+---------+----------------+-------+----+------+\n\n"
     ]
    }
   ],
   "source": [
    "# Multiple Colum filters\n",
    "#get employees with salary > 5000 and country is USA\n",
    "\n",
    "df_filter2 = df.filter(\"salary > 5000 AND country = 'USA'\")\n",
    "df_filter2.show()"
   ]
  },
  {
   "cell_type": "code",
   "execution_count": 0,
   "metadata": {
    "application/vnd.databricks.v1+cell": {
     "cellMetadata": {
      "byteLimit": 2048000,
      "rowLimit": 10000
     },
     "inputWidgets": {},
     "nuid": "67a57fda-fea9-4fbd-92d4-da21bb25ee58",
     "showTitle": false,
     "tableResultSettingsMap": {},
     "title": ""
    }
   },
   "outputs": [
    {
     "output_type": "stream",
     "name": "stdout",
     "output_type": "stream",
     "text": [
      "+---------+----------------+-------+----+------+\n|firstname|        lastname|country|city|salary|\n+---------+----------------+-------+----+------+\n|   Robert|        Williams|    USA|  CA|  6000|\n|    mARIA|Jones           |    USA|  FL| 20000|\n+---------+----------------+-------+----+------+\n\n"
     ]
    }
   ],
   "source": [
    "#option 2 # using the datyaframe method\n",
    "\n",
    "df_filter2 = df.filter(df.salary > 5000).filter(df.country == 'USA')\n",
    "df_filter2.show()"
   ]
  },
  {
   "cell_type": "code",
   "execution_count": 0,
   "metadata": {
    "application/vnd.databricks.v1+cell": {
     "cellMetadata": {
      "byteLimit": 2048000,
      "rowLimit": 10000
     },
     "inputWidgets": {},
     "nuid": "b3eb458e-342f-43c7-9ad3-ce364622032a",
     "showTitle": false,
     "tableResultSettingsMap": {},
     "title": ""
    }
   },
   "outputs": [
    {
     "output_type": "stream",
     "name": "stdout",
     "output_type": "stream",
     "text": [
      "+---------+----------------+-------+----+------+\n|firstname|        lastname|country|city|salary|\n+---------+----------------+-------+----+------+\n|   Robert|        Williams|    USA|  CA|  6000|\n|    mARIA|Jones           |    USA|  FL| 20000|\n+---------+----------------+-------+----+------+\n\n"
     ]
    }
   ],
   "source": [
    "# when using datafram AND will be replaced with \"&\" symbol, OR will be replace with \"|\" symbal and \"=\" will be replaced with \"==\" symbal for not equal \"!=\"\n",
    "\n",
    "df_filter2 = df.filter ((df.salary > 5000) & (df.country == 'USA'))\n",
    "df_filter2.show()"
   ]
  },
  {
   "cell_type": "code",
   "execution_count": 0,
   "metadata": {
    "application/vnd.databricks.v1+cell": {
     "cellMetadata": {
      "byteLimit": 2048000,
      "rowLimit": 10000
     },
     "inputWidgets": {},
     "nuid": "bad400df-362c-42e7-bfa8-579933a1d573",
     "showTitle": false,
     "tableResultSettingsMap": {},
     "title": ""
    }
   },
   "outputs": [
    {
     "output_type": "stream",
     "name": "stdout",
     "output_type": "stream",
     "text": [
      "+---------+----------------+-------+----+------+\n|firstname|        lastname|country|city|salary|\n+---------+----------------+-------+----+------+\n|   Robert|        Williams|    USA|  CA|  6000|\n|    mARIA|Jones           |    USA|  FL| 20000|\n|    james|        Anderson|     UK| LND|  8000|\n|  MICHEAL|           Bevon|     UK| LND|  3500|\n|    Maria|        Gonzales|     UK| MCR|  7000|\n+---------+----------------+-------+----+------+\n\n"
     ]
    }
   ],
   "source": [
    "#Multipls columns and Multiple conditions\n",
    "# If country is usa Then salary > 5000, if country is not usa then salary > 3000\n",
    "\n",
    "df_filter3 = df.filter(\n",
    "                        (df.country == 'USA') & (df.salary > 5000) \n",
    "                        | \n",
    "                        (df.country != 'USA') & (df.salary > 3000)\n",
    "                      )\n",
    "df_filter3.show()"
   ]
  },
  {
   "cell_type": "markdown",
   "metadata": {
    "application/vnd.databricks.v1+cell": {
     "cellMetadata": {},
     "inputWidgets": {},
     "nuid": "84226764-57af-4c21-92b8-e78a4e0aab98",
     "showTitle": false,
     "tableResultSettingsMap": {},
     "title": ""
    }
   },
   "source": [
    "String Functions"
   ]
  },
  {
   "cell_type": "code",
   "execution_count": 0,
   "metadata": {
    "application/vnd.databricks.v1+cell": {
     "cellMetadata": {
      "byteLimit": 2048000,
      "rowLimit": 10000
     },
     "inputWidgets": {},
     "nuid": "08e51565-b71f-49a5-b0f5-8f78359e9d27",
     "showTitle": false,
     "tableResultSettingsMap": {},
     "title": ""
    }
   },
   "outputs": [
    {
     "output_type": "stream",
     "name": "stdout",
     "output_type": "stream",
     "text": [
      "+-----------+----------------+-------+----+------+---------------+----------------+---------------+----------------+---------------+----------------+\n|  firstname|        lastname|country|city|salary|firstname_upper|  lastname_upper|firstname_lower|  lastname_lower|firstname_title|  lastname_title|\n+-----------+----------------+-------+----+------+---------------+----------------+---------------+----------------+---------------+----------------+\n|      James|           Smith|    USA|    |  3000|          JAMES|           SMITH|          james|           smith|          James|           Smith|\n|    Michael|            Rose|    USA|  NY|  2500|        MICHAEL|            ROSE|        michael|            rose|        Michael|            Rose|\n|     Robert|        Williams|    USA|  CA|  6000|         ROBERT|        WILLIAMS|         robert|        williams|         Robert|        Williams|\n|      mARIA|Jones           |    USA|  FL| 20000|          MARIA|JONES           |          maria|jones           |          Maria|Jones           |\n|      james|        Anderson|     UK| LND|  8000|          JAMES|        ANDERSON|          james|        anderson|          James|        Anderson|\n|    MICHEAL|           Bevon|     UK| LND|  3500|        MICHEAL|           BEVON|        micheal|           bevon|        Micheal|           Bevon|\n|     Robert|         Patrick|     UK| MCR|  2800|         ROBERT|         PATRICK|         robert|         patrick|         Robert|         Patrick|\n|      Maria|        Gonzales|     UK| MCR|  7000|          MARIA|        GONZALES|          maria|        gonzales|          Maria|        Gonzales|\n+-----------+----------------+-------+----+------+---------------+----------------+---------------+----------------+---------------+----------------+\n\n"
     ]
    }
   ],
   "source": [
    "#Get the up[per case, lower case and title case for any string\n",
    "# you can apply these functions inside the withcolumnmethod to apply the required transformations\n",
    "\n",
    "# get the upper case for above dataframe\n",
    "\n",
    "from pyspark.sql.functions import *\n",
    "\n",
    "df_2 = df.withColumn(\"firstname_upper\", upper(df.firstname))\\\n",
    "          .withColumn(\"lastname_upper\", upper(df.lastname))\\\n",
    "          .withColumn(\"firstname_lower\", lower(df.firstname))\\\n",
    "          .withColumn(\"lastname_lower\", lower(df.lastname))\\\n",
    "          .withColumn(\"firstname_title\", initcap(df.firstname))\\\n",
    "          .withColumn(\"lastname_title\", initcap(df.lastname))\n",
    "df_2.show() "
   ]
  },
  {
   "cell_type": "code",
   "execution_count": 0,
   "metadata": {
    "application/vnd.databricks.v1+cell": {
     "cellMetadata": {
      "byteLimit": 2048000,
      "rowLimit": 10000
     },
     "inputWidgets": {},
     "nuid": "e10aca02-2de1-46d5-aad3-1b55d17d0f6d",
     "showTitle": false,
     "tableResultSettingsMap": {},
     "title": ""
    }
   },
   "outputs": [
    {
     "output_type": "stream",
     "name": "stdout",
     "output_type": "stream",
     "text": [
      "+-----------+----------------+-------+----+------+--------------------+\n|  firstname|        lastname|country|city|salary|           Full_Name|\n+-----------+----------------+-------+----+------+--------------------+\n|      James|           Smith|    USA|    |  3000|         James Smith|\n|    Michael|            Rose|    USA|  NY|  2500|        Michael Rose|\n|     Robert|        Williams|    USA|  CA|  6000|     Robert Williams|\n|      mARIA|Jones           |    USA|  FL| 20000|Maria Jones      ...|\n|      james|        Anderson|     UK| LND|  8000|      James Anderson|\n|    MICHEAL|           Bevon|     UK| LND|  3500|       Micheal Bevon|\n|     Robert|         Patrick|     UK| MCR|  2800|      Robert Patrick|\n|      Maria|        Gonzales|     UK| MCR|  7000|      Maria Gonzales|\n+-----------+----------------+-------+----+------+--------------------+\n\n"
     ]
    }
   ],
   "source": [
    "#concat firstname anmd last name to create a full name\n",
    "#concat (\"col1\", \"col2\", \"col3\", \"col4\"....)\n",
    "df_2 = df.withColumn(\"Full_Name\",concat(initcap(df.firstname), lit(\" \"), initcap(df.lastname)))\n",
    "df_2.show()\n",
    "    "
   ]
  },
  {
   "cell_type": "code",
   "execution_count": 0,
   "metadata": {
    "application/vnd.databricks.v1+cell": {
     "cellMetadata": {
      "byteLimit": 2048000,
      "rowLimit": 10000
     },
     "inputWidgets": {},
     "nuid": "f8946ecc-7077-4c0c-9c09-061761c302ea",
     "showTitle": false,
     "tableResultSettingsMap": {},
     "title": ""
    }
   },
   "outputs": [
    {
     "output_type": "stream",
     "name": "stdout",
     "output_type": "stream",
     "text": [
      "+-----------+----------------+-------+----+------+-----------------+\n|  firstname|        lastname|country|city|salary|Trimmed_Full_Name|\n+-----------+----------------+-------+----+------+-----------------+\n|      James|           Smith|    USA|    |  3000|      James Smith|\n|    Michael|            Rose|    USA|  NY|  2500|     Michael Rose|\n|     Robert|        Williams|    USA|  CA|  6000|  Robert Williams|\n|      mARIA|Jones           |    USA|  FL| 20000|      Maria Jones|\n|      james|        Anderson|     UK| LND|  8000|   James Anderson|\n|    MICHEAL|           Bevon|     UK| LND|  3500|    Micheal Bevon|\n|     Robert|         Patrick|     UK| MCR|  2800|   Robert Patrick|\n|      Maria|        Gonzales|     UK| MCR|  7000|   Maria Gonzales|\n+-----------+----------------+-------+----+------+-----------------+\n\n"
     ]
    }
   ],
   "source": [
    "#remove leading and trailing spaces\n",
    "#TRIM funcation will remove leading and trailing spaces from any  srting\n",
    "df_trim = df.withColumn(\"Trimmed_Full_Name\", trim(concat(initcap(df.firstname), lit(\" \"), initcap(df.lastname))))\n",
    "df_trim.show()"
   ]
  },
  {
   "cell_type": "code",
   "execution_count": 0,
   "metadata": {
    "application/vnd.databricks.v1+cell": {
     "cellMetadata": {
      "byteLimit": 2048000,
      "rowLimit": 10000
     },
     "inputWidgets": {},
     "nuid": "e63d2387-1cbf-4283-b745-c44c20ce3947",
     "showTitle": false,
     "tableResultSettingsMap": {},
     "title": ""
    }
   },
   "outputs": [
    {
     "output_type": "stream",
     "name": "stdout",
     "output_type": "stream",
     "text": [
      "+-----------+----------------+-------+----+------+---------------+-------------+------------+--------------+-------------+\n|  firstname|        lastname|country|city|salary|      Full_Name|Fisrt4letters|Last4letters|Middle4letters| 3rddigitrest|\n+-----------+----------------+-------+----+------+---------------+-------------+------------+--------------+-------------+\n|      James|           Smith|    USA|    |  3000|    James Smith|         Jame|        mith|          mes |    mes Smith|\n|    Michael|            Rose|    USA|  NY|  2500|   Michael Rose|         Mich|        Rose|          chae|   chael Rose|\n|     Robert|        Williams|    USA|  CA|  6000|Robert Williams|         Robe|        iams|          bert|bert Williams|\n|      mARIA|Jones           |    USA|  FL| 20000|    Maria Jones|         Mari|        ones|          ria |    ria Jones|\n|      james|        Anderson|     UK| LND|  8000| James Anderson|         Jame|        rson|          mes | mes Anderson|\n|    MICHEAL|           Bevon|     UK| LND|  3500|  Micheal Bevon|         Mich|        evon|          chea|  cheal Bevon|\n|     Robert|         Patrick|     UK| MCR|  2800| Robert Patrick|         Robe|        rick|          bert| bert Patrick|\n|      Maria|        Gonzales|     UK| MCR|  7000| Maria Gonzales|         Mari|        ales|          ria | ria Gonzales|\n+-----------+----------------+-------+----+------+---------------+-------------+------------+--------------+-------------+\n\n"
     ]
    }
   ],
   "source": [
    "#get the left, right and middle values of any given string\n",
    "# synatx: substring(\"<colname\"),<starting position>,<length of string>\n",
    "\n",
    "df_ss = df.withColumn(\"Full_Name\",trim(concat(initcap(\"firstname\"),lit(\" \"),initcap(\"lastname\"))))\n",
    "df_substring = df_ss.withColumn(\"Fisrt4letters\",substring(\"Full_Name\",0,4))\\\n",
    "                    .withColumn(\"Last4letters\",substring(\"Full_Name\",-4,4))\\\n",
    "                    .withColumn(\"Middle4letters\",substring(\"Full_Name\",3,4))\\\n",
    "                .withColumn(\"3rddigitrest\",substring(\"Full_Name\",3,length(\"Full_Name\")))\n",
    "df_substring.show()\n"
   ]
  },
  {
   "cell_type": "code",
   "execution_count": 0,
   "metadata": {
    "application/vnd.databricks.v1+cell": {
     "cellMetadata": {
      "byteLimit": 2048000,
      "rowLimit": 10000
     },
     "inputWidgets": {},
     "nuid": "debad725-e7b9-4f33-b9a1-8999c781470b",
     "showTitle": false,
     "tableResultSettingsMap": {},
     "title": ""
    }
   },
   "outputs": [
    {
     "output_type": "stream",
     "name": "stdout",
     "output_type": "stream",
     "text": [
      "+-----------+----------------+-------+----+------+---------------+------+\n|  firstname|        lastname|country|city|salary|      Full_Name|Length|\n+-----------+----------------+-------+----+------+---------------+------+\n|      James|           Smith|    USA|    |  3000|    James Smith|    11|\n|    Michael|            Rose|    USA|  NY|  2500|   Michael Rose|    12|\n|     Robert|        Williams|    USA|  CA|  6000|Robert Williams|    15|\n|      mARIA|Jones           |    USA|  FL| 20000|    Maria Jones|    11|\n|      james|        Anderson|     UK| LND|  8000| James Anderson|    14|\n|    MICHEAL|           Bevon|     UK| LND|  3500|  Micheal Bevon|    13|\n|     Robert|         Patrick|     UK| MCR|  2800| Robert Patrick|    14|\n|      Maria|        Gonzales|     UK| MCR|  7000| Maria Gonzales|    14|\n+-----------+----------------+-------+----+------+---------------+------+\n\nroot\n |-- firstname: string (nullable = true)\n |-- lastname: string (nullable = false)\n |-- country: string (nullable = true)\n |-- city: string (nullable = false)\n |-- salary: integer (nullable = false)\n |-- Full_Name: string (nullable = true)\n |-- Length: integer (nullable = true)\n\n"
     ]
    }
   ],
   "source": [
    "#get the length of string\n",
    "#len(\"colname\")\n",
    "df_len = df_ss.select(df_ss['*'],length(\"Full_Name\").alias(\"Length\"))\n",
    "df_len.show()\n",
    "df_len.printSchema()\n"
   ]
  },
  {
   "cell_type": "code",
   "execution_count": 0,
   "metadata": {
    "application/vnd.databricks.v1+cell": {
     "cellMetadata": {
      "byteLimit": 2048000,
      "rowLimit": 10000
     },
     "inputWidgets": {},
     "nuid": "0443eff2-248c-4e76-b79f-e00fe73e0530",
     "showTitle": false,
     "tableResultSettingsMap": {},
     "title": ""
    }
   },
   "outputs": [
    {
     "output_type": "stream",
     "name": "stdout",
     "output_type": "stream",
     "text": [
      "+-----------+----------------+-------+----+------+------+\n|  firstname|        lastname|country|city|salary|isNull|\n+-----------+----------------+-------+----+------+------+\n|      James|           Smith|    USA|    |  3000| false|\n|    Michael|            Rose|    USA|  NY|  2500| false|\n|     Robert|        Williams|    USA|  CA|  6000| false|\n|      mARIA|Jones           |    USA|  FL| 20000| false|\n|      james|        Anderson|     UK| LND|  8000| false|\n|    MICHEAL|           Bevon|     UK| LND|  3500| false|\n|     Robert|         Patrick|     UK| MCR|  2800| false|\n|      Maria|        Gonzales|     UK| MCR|  7000| false|\n+-----------+----------------+-------+----+------+------+\n\n"
     ]
    }
   ],
   "source": [
    "#check if the column is null\n",
    "df_null =df.withColumn(\"isNull\",isnull(\"city\"))    \n",
    "df_null.show()\n"
   ]
  },
  {
   "cell_type": "code",
   "execution_count": 0,
   "metadata": {
    "application/vnd.databricks.v1+cell": {
     "cellMetadata": {
      "byteLimit": 2048000,
      "rowLimit": 10000
     },
     "inputWidgets": {},
     "nuid": "8a9e9404-e378-498f-bb31-f4f427692689",
     "showTitle": false,
     "tableResultSettingsMap": {},
     "title": ""
    }
   },
   "outputs": [
    {
     "output_type": "stream",
     "name": "stdout",
     "output_type": "stream",
     "text": [
      "+----+-----+----+\n|Col1| Col2|Col3|\n+----+-----+----+\n| Ram|kumar|NULL|\n|NULL|kumar| Ram|\n|NULL| NULL| Ram|\n+----+-----+----+\n\n+----+-----+----+--------+\n|Col1| Col2|Col3|Coalesce|\n+----+-----+----+--------+\n| Ram|kumar|NULL|     Ram|\n|NULL|kumar| Ram|   kumar|\n|NULL| NULL| Ram|     Ram|\n+----+-----+----+--------+\n\n"
     ]
    }
   ],
   "source": [
    "list1 = [(\"Ram\",\"kumar\",None),(None,\"kumar\",\"Ram\"),(None,None,\"Ram\")]\n",
    "df_l1 = spark.createDataFrame(data = list1, schema =[\"Col1\",\"Col2\",\"Col3\"])\n",
    "df_7 = df_l1.withColumn(\"Coalesce\",coalesce(\"col1\",\"col2\",\"col3\"))\n",
    "df_l1.show()\n",
    "df_7.show()"
   ]
  },
  {
   "cell_type": "code",
   "execution_count": 0,
   "metadata": {
    "application/vnd.databricks.v1+cell": {
     "cellMetadata": {
      "byteLimit": 2048000,
      "rowLimit": 10000
     },
     "inputWidgets": {},
     "nuid": "c90983a2-e508-498f-b6c9-2e876ad22e25",
     "showTitle": false,
     "tableResultSettingsMap": {},
     "title": ""
    }
   },
   "outputs": [
    {
     "output_type": "stream",
     "name": "stdout",
     "output_type": "stream",
     "text": [
      "+-----------+----------------+-------+----+------+---------------+------------------+\n|  firstname|        lastname|country|city|salary|      Full_Name|             split|\n+-----------+----------------+-------+----+------+---------------+------------------+\n|      James|           Smith|    USA|    |  3000|    James Smith|    [James, Smith]|\n|    Michael|            Rose|    USA|  NY|  2500|   Michael Rose|   [Michael, Rose]|\n|     Robert|        Williams|    USA|  CA|  6000|Robert Williams|[Robert, Williams]|\n|      mARIA|Jones           |    USA|  FL| 20000|    Maria Jones|    [Maria, Jones]|\n|      james|        Anderson|     UK| LND|  8000| James Anderson| [James, Anderson]|\n|    MICHEAL|           Bevon|     UK| LND|  3500|  Micheal Bevon|  [Micheal, Bevon]|\n|     Robert|         Patrick|     UK| MCR|  2800| Robert Patrick| [Robert, Patrick]|\n|      Maria|        Gonzales|     UK| MCR|  7000| Maria Gonzales| [Maria, Gonzales]|\n+-----------+----------------+-------+----+------+---------------+------------------+\n\n+-----------+----------------+-------+----+------+---------------+------------------+-----------+------------+\n|  firstname|        lastname|country|city|salary|      Full_Name|             split|First_split|Second_split|\n+-----------+----------------+-------+----+------+---------------+------------------+-----------+------------+\n|      James|           Smith|    USA|    |  3000|    James Smith|    [James, Smith]|      James|       Smith|\n|    Michael|            Rose|    USA|  NY|  2500|   Michael Rose|   [Michael, Rose]|    Michael|        Rose|\n|     Robert|        Williams|    USA|  CA|  6000|Robert Williams|[Robert, Williams]|     Robert|    Williams|\n|      mARIA|Jones           |    USA|  FL| 20000|    Maria Jones|    [Maria, Jones]|      Maria|       Jones|\n|      james|        Anderson|     UK| LND|  8000| James Anderson| [James, Anderson]|      James|    Anderson|\n|    MICHEAL|           Bevon|     UK| LND|  3500|  Micheal Bevon|  [Micheal, Bevon]|    Micheal|       Bevon|\n|     Robert|         Patrick|     UK| MCR|  2800| Robert Patrick| [Robert, Patrick]|     Robert|     Patrick|\n|      Maria|        Gonzales|     UK| MCR|  7000| Maria Gonzales| [Maria, Gonzales]|      Maria|    Gonzales|\n+-----------+----------------+-------+----+------+---------------+------------------+-----------+------------+\n\n"
     ]
    }
   ],
   "source": [
    "df3 = df_ss.withColumn(\"split\",split(\"Full_Name\",\" \",0))\n",
    "df3.show()\n",
    "df4 = df3.withColumn(\"First_split\",df3.split[0])\\\n",
    "        .withColumn(\"Second_split\",df3.split[1])\n",
    "df4.show()\n"
   ]
  },
  {
   "cell_type": "code",
   "execution_count": 0,
   "metadata": {
    "application/vnd.databricks.v1+cell": {
     "cellMetadata": {
      "byteLimit": 2048000,
      "rowLimit": 10000
     },
     "inputWidgets": {},
     "nuid": "8eb3fbf3-333b-4ece-96e2-39d7ed596281",
     "showTitle": false,
     "tableResultSettingsMap": {},
     "title": ""
    }
   },
   "outputs": [
    {
     "output_type": "stream",
     "name": "stdout",
     "output_type": "stream",
     "text": [
      "+-----------+----------------+-------+----+------+--------+\n|  firstname|        lastname|country|city|salary|position|\n+-----------+----------------+-------+----+------+--------+\n|      James|           Smith|    USA|    |  3000|       5|\n|    Michael|            Rose|    USA|  NY|  2500|       0|\n|     Robert|        Williams|    USA|  CA|  6000|       0|\n|      mARIA|Jones           |    USA|  FL| 20000|       0|\n|      james|        Anderson|     UK| LND|  8000|       0|\n|    MICHEAL|           Bevon|     UK| LND|  3500|       0|\n|     Robert|         Patrick|     UK| MCR|  2800|       0|\n|      Maria|        Gonzales|     UK| MCR|  7000|       0|\n+-----------+----------------+-------+----+------+--------+\n\n"
     ]
    }
   ],
   "source": [
    "#find the position of a string\n",
    "#instr function is case sensitive\n",
    "#instr(<COLNAME>,\"substring\")\n",
    "df8 = df.withColumn(\"position\",instr(\"firstname\",\"J\"))\n",
    "df8.show()"
   ]
  }
 ],
 "metadata": {
  "application/vnd.databricks.v1+notebook": {
   "computePreferences": null,
   "dashboards": [],
   "environmentMetadata": {
    "base_environment": "",
    "environment_version": "3"
   },
   "inputWidgetPreferences": null,
   "language": "python",
   "notebookMetadata": {
    "pythonIndentUnit": 4
   },
   "notebookName": "filtering",
   "widgets": {}
  },
  "language_info": {
   "name": "python"
  }
 },
 "nbformat": 4,
 "nbformat_minor": 0
}